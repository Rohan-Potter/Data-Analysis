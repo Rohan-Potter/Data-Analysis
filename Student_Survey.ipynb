{
 "cells": [
  {
   "cell_type": "code",
   "execution_count": 2,
   "metadata": {},
   "outputs": [],
   "source": [
    "import pandas as pd\n",
    "from matplotlib import pyplot as plt"
   ]
  },
  {
   "cell_type": "code",
   "execution_count": 3,
   "metadata": {},
   "outputs": [],
   "source": [
    "data=pd.read_csv(\"Student_survey.csv\")"
   ]
  },
  {
   "cell_type": "code",
   "execution_count": 4,
   "metadata": {},
   "outputs": [
    {
     "data": {
      "text/html": [
       "<div>\n",
       "<style scoped>\n",
       "    .dataframe tbody tr th:only-of-type {\n",
       "        vertical-align: middle;\n",
       "    }\n",
       "\n",
       "    .dataframe tbody tr th {\n",
       "        vertical-align: top;\n",
       "    }\n",
       "\n",
       "    .dataframe thead th {\n",
       "        text-align: right;\n",
       "    }\n",
       "</style>\n",
       "<table border=\"1\" class=\"dataframe\">\n",
       "  <thead>\n",
       "    <tr style=\"text-align: right;\">\n",
       "      <th></th>\n",
       "      <th>Timestamp</th>\n",
       "      <th>Username</th>\n",
       "      <th>Gender</th>\n",
       "      <th>Name</th>\n",
       "      <th>Education</th>\n",
       "      <th>Did you learn anything new during lock-down?</th>\n",
       "      <th>Your sleeping hours per day before lock-down?</th>\n",
       "      <th>Your sleeping hours per day during lockdown?</th>\n",
       "      <th>Hours you spend on mobile or laptops  before lock-down (per-day)?</th>\n",
       "      <th>Hours you spend on mobile or laptops  during lock-down (per-day)?</th>\n",
       "      <th>Have you notice any behavior change in you during lock-down?</th>\n",
       "      <th>What you'll prefer to calm your mind?</th>\n",
       "      <th>Have you ever feel depressed before lock-down?</th>\n",
       "      <th>Have you  feel depressed during lock-down?</th>\n",
       "      <th>Did you talk to anyone about your depression?</th>\n",
       "      <th>You are depressed because?</th>\n",
       "      <th>Do you need any help regarding your depression?</th>\n",
       "      <th>Have you watched Harry-Potter?</th>\n",
       "    </tr>\n",
       "  </thead>\n",
       "  <tbody>\n",
       "    <tr>\n",
       "      <th>0</th>\n",
       "      <td>2020/06/26 7:37:17 PM GMT+5:30</td>\n",
       "      <td>khyusra@iul.ac.in</td>\n",
       "      <td>Female</td>\n",
       "      <td>Yusra Khatoon</td>\n",
       "      <td>UG</td>\n",
       "      <td>Cooking</td>\n",
       "      <td>8</td>\n",
       "      <td>10</td>\n",
       "      <td>4</td>\n",
       "      <td>4</td>\n",
       "      <td>Yes</td>\n",
       "      <td>Meditation</td>\n",
       "      <td>No</td>\n",
       "      <td>No</td>\n",
       "      <td>I'm Not depressed</td>\n",
       "      <td>I'm not depressed.</td>\n",
       "      <td>No</td>\n",
       "      <td>No</td>\n",
       "    </tr>\n",
       "    <tr>\n",
       "      <th>1</th>\n",
       "      <td>2020/06/26 7:44:00 PM GMT+5:30</td>\n",
       "      <td>ziaafreen@iul.ac.in</td>\n",
       "      <td>Female</td>\n",
       "      <td>Zia Afreen</td>\n",
       "      <td>UG</td>\n",
       "      <td>Giving time to self for success</td>\n",
       "      <td>6</td>\n",
       "      <td>8</td>\n",
       "      <td>2</td>\n",
       "      <td>4</td>\n",
       "      <td>Maybe</td>\n",
       "      <td>Praying and believe in the things in which i w...</td>\n",
       "      <td>No</td>\n",
       "      <td>No</td>\n",
       "      <td>I'm Not depressed</td>\n",
       "      <td>No I never got depressed</td>\n",
       "      <td>No</td>\n",
       "      <td>Yes</td>\n",
       "    </tr>\n",
       "    <tr>\n",
       "      <th>2</th>\n",
       "      <td>2020/06/26 7:50:21 PM GMT+5:30</td>\n",
       "      <td>hinaahad@student.iul.ac.in</td>\n",
       "      <td>Female</td>\n",
       "      <td>Hina ahad</td>\n",
       "      <td>UG</td>\n",
       "      <td>Cooking</td>\n",
       "      <td>6</td>\n",
       "      <td>10</td>\n",
       "      <td>2</td>\n",
       "      <td>6</td>\n",
       "      <td>Maybe</td>\n",
       "      <td>Music</td>\n",
       "      <td>No</td>\n",
       "      <td>No</td>\n",
       "      <td>No</td>\n",
       "      <td>NaN</td>\n",
       "      <td>No</td>\n",
       "      <td>Yes</td>\n",
       "    </tr>\n",
       "    <tr>\n",
       "      <th>3</th>\n",
       "      <td>2020/06/26 7:50:58 PM GMT+5:30</td>\n",
       "      <td>mdasfar@iul.ac.in</td>\n",
       "      <td>Male</td>\n",
       "      <td>Md Asfar</td>\n",
       "      <td>PG</td>\n",
       "      <td>Cooking</td>\n",
       "      <td>6</td>\n",
       "      <td>8</td>\n",
       "      <td>2</td>\n",
       "      <td>4</td>\n",
       "      <td>No</td>\n",
       "      <td>Music</td>\n",
       "      <td>No</td>\n",
       "      <td>Yes</td>\n",
       "      <td>I don't want to</td>\n",
       "      <td>Because I can't stay at home🏠 long time</td>\n",
       "      <td>No</td>\n",
       "      <td>Yes</td>\n",
       "    </tr>\n",
       "    <tr>\n",
       "      <th>4</th>\n",
       "      <td>2020/06/26 7:51:17 PM GMT+5:30</td>\n",
       "      <td>asiyaprvn@iul.ac.in</td>\n",
       "      <td>Female</td>\n",
       "      <td>Asiya Parveen</td>\n",
       "      <td>PG</td>\n",
       "      <td>Cooking</td>\n",
       "      <td>8</td>\n",
       "      <td>8</td>\n",
       "      <td>4</td>\n",
       "      <td>4</td>\n",
       "      <td>Yes</td>\n",
       "      <td>Music</td>\n",
       "      <td>Yes</td>\n",
       "      <td>Yes</td>\n",
       "      <td>No</td>\n",
       "      <td>Because of living home permanent.</td>\n",
       "      <td>Yes</td>\n",
       "      <td>Yes</td>\n",
       "    </tr>\n",
       "    <tr>\n",
       "      <th>...</th>\n",
       "      <td>...</td>\n",
       "      <td>...</td>\n",
       "      <td>...</td>\n",
       "      <td>...</td>\n",
       "      <td>...</td>\n",
       "      <td>...</td>\n",
       "      <td>...</td>\n",
       "      <td>...</td>\n",
       "      <td>...</td>\n",
       "      <td>...</td>\n",
       "      <td>...</td>\n",
       "      <td>...</td>\n",
       "      <td>...</td>\n",
       "      <td>...</td>\n",
       "      <td>...</td>\n",
       "      <td>...</td>\n",
       "      <td>...</td>\n",
       "      <td>...</td>\n",
       "    </tr>\n",
       "    <tr>\n",
       "      <th>76</th>\n",
       "      <td>2020/06/29 12:22:44 AM GMT+5:30</td>\n",
       "      <td>tshobhna604@gmail.com</td>\n",
       "      <td>Female</td>\n",
       "      <td>Shobhna mishra</td>\n",
       "      <td>UG</td>\n",
       "      <td>Nothing</td>\n",
       "      <td>8</td>\n",
       "      <td>10</td>\n",
       "      <td>6</td>\n",
       "      <td>6</td>\n",
       "      <td>Yes</td>\n",
       "      <td>Music</td>\n",
       "      <td>Yes</td>\n",
       "      <td>Yes</td>\n",
       "      <td>No</td>\n",
       "      <td>Because im not able to focus on anything also ...</td>\n",
       "      <td>Yes</td>\n",
       "      <td>Yes</td>\n",
       "    </tr>\n",
       "    <tr>\n",
       "      <th>77</th>\n",
       "      <td>2020/06/29 12:26:56 AM GMT+5:30</td>\n",
       "      <td>ritikakes@iul.ac.in</td>\n",
       "      <td>Female</td>\n",
       "      <td>Ritika Keshari</td>\n",
       "      <td>UG</td>\n",
       "      <td>Cooking</td>\n",
       "      <td>6</td>\n",
       "      <td>8</td>\n",
       "      <td>4</td>\n",
       "      <td>6</td>\n",
       "      <td>Maybe</td>\n",
       "      <td>Talking to people I Love.</td>\n",
       "      <td>Yes</td>\n",
       "      <td>Yes</td>\n",
       "      <td>Yes</td>\n",
       "      <td>Due to my career, relation and financial condi...</td>\n",
       "      <td>Maybe</td>\n",
       "      <td>Yes</td>\n",
       "    </tr>\n",
       "    <tr>\n",
       "      <th>78</th>\n",
       "      <td>2020/06/29 1:09:57 AM GMT+5:30</td>\n",
       "      <td>sezal@iul.ac.in</td>\n",
       "      <td>Female</td>\n",
       "      <td>Sezal</td>\n",
       "      <td>UG</td>\n",
       "      <td>Nothing</td>\n",
       "      <td>8</td>\n",
       "      <td>10</td>\n",
       "      <td>4</td>\n",
       "      <td>6</td>\n",
       "      <td>Maybe</td>\n",
       "      <td>Music</td>\n",
       "      <td>Yes</td>\n",
       "      <td>No</td>\n",
       "      <td>Yes</td>\n",
       "      <td>NaN</td>\n",
       "      <td>No</td>\n",
       "      <td>Yes</td>\n",
       "    </tr>\n",
       "    <tr>\n",
       "      <th>79</th>\n",
       "      <td>2020/06/29 9:28:11 PM GMT+5:30</td>\n",
       "      <td>mahimavermacp@gmail.cm</td>\n",
       "      <td>Female</td>\n",
       "      <td>Mahima verma</td>\n",
       "      <td>Phd</td>\n",
       "      <td>Music</td>\n",
       "      <td>6</td>\n",
       "      <td>8</td>\n",
       "      <td>4</td>\n",
       "      <td>6</td>\n",
       "      <td>Yes</td>\n",
       "      <td>Meditation</td>\n",
       "      <td>Maybe</td>\n",
       "      <td>Maybe</td>\n",
       "      <td>No</td>\n",
       "      <td>NaN</td>\n",
       "      <td>No</td>\n",
       "      <td>Yes</td>\n",
       "    </tr>\n",
       "    <tr>\n",
       "      <th>80</th>\n",
       "      <td>2020/06/29 9:30:50 PM GMT+5:30</td>\n",
       "      <td>panditad@iul.ac.in</td>\n",
       "      <td>Male</td>\n",
       "      <td>Adya pandey</td>\n",
       "      <td>UG</td>\n",
       "      <td>A lot of things including both a and b</td>\n",
       "      <td>8</td>\n",
       "      <td>8</td>\n",
       "      <td>6</td>\n",
       "      <td>6</td>\n",
       "      <td>Maybe</td>\n",
       "      <td>All of the above</td>\n",
       "      <td>Yes</td>\n",
       "      <td>Yes</td>\n",
       "      <td>No</td>\n",
       "      <td>Financial status of my family very weak</td>\n",
       "      <td>No</td>\n",
       "      <td>Yes</td>\n",
       "    </tr>\n",
       "  </tbody>\n",
       "</table>\n",
       "<p>81 rows × 18 columns</p>\n",
       "</div>"
      ],
      "text/plain": [
       "                          Timestamp                    Username  Gender  \\\n",
       "0    2020/06/26 7:37:17 PM GMT+5:30           khyusra@iul.ac.in  Female   \n",
       "1    2020/06/26 7:44:00 PM GMT+5:30         ziaafreen@iul.ac.in  Female   \n",
       "2    2020/06/26 7:50:21 PM GMT+5:30  hinaahad@student.iul.ac.in  Female   \n",
       "3    2020/06/26 7:50:58 PM GMT+5:30           mdasfar@iul.ac.in    Male   \n",
       "4    2020/06/26 7:51:17 PM GMT+5:30         asiyaprvn@iul.ac.in  Female   \n",
       "..                              ...                         ...     ...   \n",
       "76  2020/06/29 12:22:44 AM GMT+5:30       tshobhna604@gmail.com  Female   \n",
       "77  2020/06/29 12:26:56 AM GMT+5:30         ritikakes@iul.ac.in  Female   \n",
       "78   2020/06/29 1:09:57 AM GMT+5:30             sezal@iul.ac.in  Female   \n",
       "79   2020/06/29 9:28:11 PM GMT+5:30      mahimavermacp@gmail.cm  Female   \n",
       "80   2020/06/29 9:30:50 PM GMT+5:30          panditad@iul.ac.in    Male   \n",
       "\n",
       "              Name Education Did you learn anything new during lock-down?  \\\n",
       "0    Yusra Khatoon        UG                                      Cooking   \n",
       "1       Zia Afreen        UG              Giving time to self for success   \n",
       "2        Hina ahad        UG                                      Cooking   \n",
       "3         Md Asfar        PG                                      Cooking   \n",
       "4    Asiya Parveen        PG                                      Cooking   \n",
       "..             ...       ...                                          ...   \n",
       "76  Shobhna mishra        UG                                      Nothing   \n",
       "77  Ritika Keshari        UG                                      Cooking   \n",
       "78           Sezal        UG                                      Nothing   \n",
       "79    Mahima verma       Phd                                        Music   \n",
       "80     Adya pandey        UG       A lot of things including both a and b   \n",
       "\n",
       "    Your sleeping hours per day before lock-down?  \\\n",
       "0                                               8   \n",
       "1                                               6   \n",
       "2                                               6   \n",
       "3                                               6   \n",
       "4                                               8   \n",
       "..                                            ...   \n",
       "76                                              8   \n",
       "77                                              6   \n",
       "78                                              8   \n",
       "79                                              6   \n",
       "80                                              8   \n",
       "\n",
       "    Your sleeping hours per day during lockdown?  \\\n",
       "0                                             10   \n",
       "1                                              8   \n",
       "2                                             10   \n",
       "3                                              8   \n",
       "4                                              8   \n",
       "..                                           ...   \n",
       "76                                            10   \n",
       "77                                             8   \n",
       "78                                            10   \n",
       "79                                             8   \n",
       "80                                             8   \n",
       "\n",
       "    Hours you spend on mobile or laptops  before lock-down (per-day)?  \\\n",
       "0                                                   4                   \n",
       "1                                                   2                   \n",
       "2                                                   2                   \n",
       "3                                                   2                   \n",
       "4                                                   4                   \n",
       "..                                                ...                   \n",
       "76                                                  6                   \n",
       "77                                                  4                   \n",
       "78                                                  4                   \n",
       "79                                                  4                   \n",
       "80                                                  6                   \n",
       "\n",
       "    Hours you spend on mobile or laptops  during lock-down (per-day)?  \\\n",
       "0                                                   4                   \n",
       "1                                                   4                   \n",
       "2                                                   6                   \n",
       "3                                                   4                   \n",
       "4                                                   4                   \n",
       "..                                                ...                   \n",
       "76                                                  6                   \n",
       "77                                                  6                   \n",
       "78                                                  6                   \n",
       "79                                                  6                   \n",
       "80                                                  6                   \n",
       "\n",
       "   Have you notice any behavior change in you during lock-down?  \\\n",
       "0                                                 Yes             \n",
       "1                                               Maybe             \n",
       "2                                               Maybe             \n",
       "3                                                  No             \n",
       "4                                                 Yes             \n",
       "..                                                ...             \n",
       "76                                                Yes             \n",
       "77                                              Maybe             \n",
       "78                                              Maybe             \n",
       "79                                                Yes             \n",
       "80                                              Maybe             \n",
       "\n",
       "                What you'll prefer to calm your mind?  \\\n",
       "0                                          Meditation   \n",
       "1   Praying and believe in the things in which i w...   \n",
       "2                                               Music   \n",
       "3                                               Music   \n",
       "4                                               Music   \n",
       "..                                                ...   \n",
       "76                                              Music   \n",
       "77                          Talking to people I Love.   \n",
       "78                                              Music   \n",
       "79                                         Meditation   \n",
       "80                                   All of the above   \n",
       "\n",
       "   Have you ever feel depressed before lock-down?  \\\n",
       "0                                              No   \n",
       "1                                              No   \n",
       "2                                              No   \n",
       "3                                              No   \n",
       "4                                             Yes   \n",
       "..                                            ...   \n",
       "76                                            Yes   \n",
       "77                                            Yes   \n",
       "78                                            Yes   \n",
       "79                                          Maybe   \n",
       "80                                            Yes   \n",
       "\n",
       "   Have you  feel depressed during lock-down?  \\\n",
       "0                                          No   \n",
       "1                                          No   \n",
       "2                                          No   \n",
       "3                                         Yes   \n",
       "4                                         Yes   \n",
       "..                                        ...   \n",
       "76                                        Yes   \n",
       "77                                        Yes   \n",
       "78                                         No   \n",
       "79                                      Maybe   \n",
       "80                                        Yes   \n",
       "\n",
       "   Did you talk to anyone about your depression?  \\\n",
       "0                              I'm Not depressed   \n",
       "1                              I'm Not depressed   \n",
       "2                                             No   \n",
       "3                                I don't want to   \n",
       "4                                             No   \n",
       "..                                           ...   \n",
       "76                                            No   \n",
       "77                                           Yes   \n",
       "78                                           Yes   \n",
       "79                                            No   \n",
       "80                                            No   \n",
       "\n",
       "                           You are depressed because?  \\\n",
       "0                                  I'm not depressed.   \n",
       "1                            No I never got depressed   \n",
       "2                                                 NaN   \n",
       "3             Because I can't stay at home🏠 long time   \n",
       "4                   Because of living home permanent.   \n",
       "..                                                ...   \n",
       "76  Because im not able to focus on anything also ...   \n",
       "77  Due to my career, relation and financial condi...   \n",
       "78                                                NaN   \n",
       "79                                                NaN   \n",
       "80            Financial status of my family very weak   \n",
       "\n",
       "   Do you need any help regarding your depression?  \\\n",
       "0                                               No   \n",
       "1                                               No   \n",
       "2                                               No   \n",
       "3                                               No   \n",
       "4                                              Yes   \n",
       "..                                             ...   \n",
       "76                                             Yes   \n",
       "77                                           Maybe   \n",
       "78                                              No   \n",
       "79                                              No   \n",
       "80                                              No   \n",
       "\n",
       "   Have you watched Harry-Potter?  \n",
       "0                              No  \n",
       "1                             Yes  \n",
       "2                             Yes  \n",
       "3                             Yes  \n",
       "4                             Yes  \n",
       "..                            ...  \n",
       "76                            Yes  \n",
       "77                            Yes  \n",
       "78                            Yes  \n",
       "79                            Yes  \n",
       "80                            Yes  \n",
       "\n",
       "[81 rows x 18 columns]"
      ]
     },
     "execution_count": 4,
     "metadata": {},
     "output_type": "execute_result"
    }
   ],
   "source": [
    "data"
   ]
  },
  {
   "cell_type": "markdown",
   "metadata": {},
   "source": [
    "## Data info."
   ]
  },
  {
   "cell_type": "code",
   "execution_count": 5,
   "metadata": {
    "scrolled": false
   },
   "outputs": [
    {
     "name": "stdout",
     "output_type": "stream",
     "text": [
      "<class 'pandas.core.frame.DataFrame'>\n",
      "RangeIndex: 81 entries, 0 to 80\n",
      "Data columns (total 18 columns):\n",
      " #   Column                                                             Non-Null Count  Dtype \n",
      "---  ------                                                             --------------  ----- \n",
      " 0   Timestamp                                                          81 non-null     object\n",
      " 1   Username                                                           81 non-null     object\n",
      " 2   Gender                                                             81 non-null     object\n",
      " 3   Name                                                               81 non-null     object\n",
      " 4   Education                                                          81 non-null     object\n",
      " 5   Did you learn anything new during lock-down?                       81 non-null     object\n",
      " 6   Your sleeping hours per day before lock-down?                      81 non-null     int64 \n",
      " 7   Your sleeping hours per day during lockdown?                       81 non-null     int64 \n",
      " 8   Hours you spend on mobile or laptops  before lock-down (per-day)?  81 non-null     int64 \n",
      " 9   Hours you spend on mobile or laptops  during lock-down (per-day)?  81 non-null     int64 \n",
      " 10  Have you notice any behavior change in you during lock-down?       81 non-null     object\n",
      " 11  What you'll prefer to calm your mind?                              81 non-null     object\n",
      " 12  Have you ever feel depressed before lock-down?                     81 non-null     object\n",
      " 13  Have you  feel depressed during lock-down?                         81 non-null     object\n",
      " 14  Did you talk to anyone about your depression?                      81 non-null     object\n",
      " 15  You are depressed because?                                         56 non-null     object\n",
      " 16  Do you need any help regarding your depression?                    81 non-null     object\n",
      " 17  Have you watched Harry-Potter?                                     81 non-null     object\n",
      "dtypes: int64(4), object(14)\n",
      "memory usage: 11.5+ KB\n"
     ]
    }
   ],
   "source": [
    "data.info()"
   ]
  },
  {
   "cell_type": "markdown",
   "metadata": {},
   "source": [
    "## Cumulative sleeping hours group by gender"
   ]
  },
  {
   "cell_type": "code",
   "execution_count": 6,
   "metadata": {
    "scrolled": true
   },
   "outputs": [
    {
     "data": {
      "text/plain": [
       "Your sleeping hours per day before lock-down?    7.061728\n",
       "dtype: float64"
      ]
     },
     "execution_count": 6,
     "metadata": {},
     "output_type": "execute_result"
    }
   ],
   "source": [
    "data[['Your sleeping hours per day before lock-down?']].mean()"
   ]
  },
  {
   "cell_type": "code",
   "execution_count": 7,
   "metadata": {},
   "outputs": [
    {
     "data": {
      "text/plain": [
       "Your sleeping hours per day during lockdown?    8.17284\n",
       "dtype: float64"
      ]
     },
     "execution_count": 7,
     "metadata": {},
     "output_type": "execute_result"
    }
   ],
   "source": [
    "data[['Your sleeping hours per day during lockdown?']].mean()"
   ]
  },
  {
   "cell_type": "code",
   "execution_count": 8,
   "metadata": {},
   "outputs": [
    {
     "data": {
      "image/png": "[encoded data removed]",
      "text/plain": [
       "<Figure size 432x288 with 1 Axes>"
      ]
     },
     "metadata": {
      "needs_background": "light"
     },
     "output_type": "display_data"
    }
   ],
   "source": [
    "y=[7.041096,8.082192]\n",
    "x=['Before Lock-down','During Lock-down']\n",
    "plt.bar(x,y,color=['r','b'])\n",
    "plt.ylabel(\"Average Sleeping Hours\",fontweight='bold')\n",
    "plt.title(\"Average Sleeping Hours(Per-Day)\",fontweight='bold',color='grey')\n",
    "plt.show()"
   ]
  },
  {
   "cell_type": "code",
   "execution_count": 9,
   "metadata": {},
   "outputs": [
    {
     "data": {
      "text/html": [
       "<div>\n",
       "<style scoped>\n",
       "    .dataframe tbody tr th:only-of-type {\n",
       "        vertical-align: middle;\n",
       "    }\n",
       "\n",
       "    .dataframe tbody tr th {\n",
       "        vertical-align: top;\n",
       "    }\n",
       "\n",
       "    .dataframe thead th {\n",
       "        text-align: right;\n",
       "    }\n",
       "</style>\n",
       "<table border=\"1\" class=\"dataframe\">\n",
       "  <thead>\n",
       "    <tr style=\"text-align: right;\">\n",
       "      <th></th>\n",
       "      <th>Your sleeping hours per day before lock-down?</th>\n",
       "    </tr>\n",
       "    <tr>\n",
       "      <th>Gender</th>\n",
       "      <th></th>\n",
       "    </tr>\n",
       "  </thead>\n",
       "  <tbody>\n",
       "    <tr>\n",
       "      <th>Female</th>\n",
       "      <td>7.018182</td>\n",
       "    </tr>\n",
       "    <tr>\n",
       "      <th>Male</th>\n",
       "      <td>7.153846</td>\n",
       "    </tr>\n",
       "  </tbody>\n",
       "</table>\n",
       "</div>"
      ],
      "text/plain": [
       "        Your sleeping hours per day before lock-down?\n",
       "Gender                                               \n",
       "Female                                       7.018182\n",
       "Male                                         7.153846"
      ]
     },
     "execution_count": 9,
     "metadata": {},
     "output_type": "execute_result"
    }
   ],
   "source": [
    "data[['Your sleeping hours per day before lock-down?','Gender']].groupby('Gender').mean()"
   ]
  },
  {
   "cell_type": "code",
   "execution_count": 10,
   "metadata": {},
   "outputs": [
    {
     "data": {
      "text/html": [
       "<div>\n",
       "<style scoped>\n",
       "    .dataframe tbody tr th:only-of-type {\n",
       "        vertical-align: middle;\n",
       "    }\n",
       "\n",
       "    .dataframe tbody tr th {\n",
       "        vertical-align: top;\n",
       "    }\n",
       "\n",
       "    .dataframe thead th {\n",
       "        text-align: right;\n",
       "    }\n",
       "</style>\n",
       "<table border=\"1\" class=\"dataframe\">\n",
       "  <thead>\n",
       "    <tr style=\"text-align: right;\">\n",
       "      <th></th>\n",
       "      <th>Your sleeping hours per day during lockdown?</th>\n",
       "    </tr>\n",
       "    <tr>\n",
       "      <th>Gender</th>\n",
       "      <th></th>\n",
       "    </tr>\n",
       "  </thead>\n",
       "  <tbody>\n",
       "    <tr>\n",
       "      <th>Female</th>\n",
       "      <td>8.290909</td>\n",
       "    </tr>\n",
       "    <tr>\n",
       "      <th>Male</th>\n",
       "      <td>7.923077</td>\n",
       "    </tr>\n",
       "  </tbody>\n",
       "</table>\n",
       "</div>"
      ],
      "text/plain": [
       "        Your sleeping hours per day during lockdown?\n",
       "Gender                                              \n",
       "Female                                      8.290909\n",
       "Male                                        7.923077"
      ]
     },
     "execution_count": 10,
     "metadata": {},
     "output_type": "execute_result"
    }
   ],
   "source": [
    "data[['Your sleeping hours per day during lockdown?','Gender']].groupby('Gender').mean()"
   ]
  },
  {
   "cell_type": "code",
   "execution_count": 11,
   "metadata": {},
   "outputs": [
    {
     "data": {
      "image/png": "[encoded data removed]",
      "text/plain": [
       "<Figure size 432x288 with 1 Axes>"
      ]
     },
     "metadata": {
      "needs_background": "light"
     },
     "output_type": "display_data"
    }
   ],
   "source": [
    "y=[7.018182,8.290909]\n",
    "x=['Before lock-down','During lock-down']\n",
    "plt.bar(x,y,color=['r','m'])\n",
    "plt.title('Avg. Sleeping hours of female(Per-Day)',fontweight='bold',color='gray')\n",
    "plt.xlabel('Female',fontweight='bold')\n",
    "plt.ylabel('Sleeping hours',fontweight='bold')\n",
    "plt.show()"
   ]
  },
  {
   "cell_type": "code",
   "execution_count": 12,
   "metadata": {
    "scrolled": true
   },
   "outputs": [
    {
     "data": {
      "image/png": "[encoded data removed]",
      "text/plain": [
       "<Figure size 432x288 with 1 Axes>"
      ]
     },
     "metadata": {
      "needs_background": "light"
     },
     "output_type": "display_data"
    }
   ],
   "source": [
    "y=[7.153846,7.923077]\n",
    "x=['Before lock-down','During lock-down']\n",
    "plt.bar(x,y,color=['r','m'])\n",
    "plt.title('Avg. Sleeping hours of male(Per-Day)',fontweight='bold',color='gray')\n",
    "plt.xlabel('Male',fontweight='bold')\n",
    "plt.ylabel('Sleeping hours',fontweight='bold')\n",
    "plt.show()"
   ]
  },
  {
   "cell_type": "code",
   "execution_count": 13,
   "metadata": {},
   "outputs": [
    {
     "data": {
      "image/png": "[encoded data removed]",
      "text/plain": [
       "<Figure size 432x288 with 1 Axes>"
      ]
     },
     "metadata": {
      "needs_background": "light"
     },
     "output_type": "display_data"
    }
   ],
   "source": [
    "y=[8.290909,7.923077]\n",
    "x=['Female','Male']\n",
    "plt.bar(x,y,color=['pink','b'])\n",
    "plt.title('Avg. Sleeping hours(Per-Day) during lock-down',fontweight='bold',color='gray')\n",
    "plt.xlabel('Gender',fontweight='bold')\n",
    "plt.ylabel('Sleeping hours',fontweight='bold')\n",
    "plt.show()"
   ]
  },
  {
   "cell_type": "markdown",
   "metadata": {},
   "source": [
    "## Change in Sleeping Hours"
   ]
  },
  {
   "cell_type": "code",
   "execution_count": 14,
   "metadata": {},
   "outputs": [
    {
     "data": {
      "image/png": "[encoded data removed]",
      "text/plain": [
       "<Figure size 432x288 with 1 Axes>"
      ]
     },
     "metadata": {},
     "output_type": "display_data"
    }
   ],
   "source": [
    "e=data[data['Your sleeping hours per day before lock-down?']==data['Your sleeping hours per day during lockdown?']].count()\n",
    "max=data[data['Your sleeping hours per day before lock-down?']<data['Your sleeping hours per day during lockdown?']].count()\n",
    "min=data[data['Your sleeping hours per day before lock-down?']>data['Your sleeping hours per day during lockdown?']].count()\n",
    "slices=[e['Gender'],max['Gender'],min['Gender']]\n",
    "col=['c','m','r']\n",
    "plt.pie(slices,\n",
    "       labels=['NO Change','Increased','Decreased'],\n",
    "       colors=col,\n",
    "       startangle=90,\n",
    "       shadow=True,\n",
    "       explode=(0.1,0,0),\n",
    "       autopct=\"%1.1f%%\")\n",
    "plt.title(\"Sleeping Hours\",fontweight='bold')\n",
    "plt.show()"
   ]
  },
  {
   "cell_type": "markdown",
   "metadata": {},
   "source": [
    "## Time spend on gadgets"
   ]
  },
  {
   "cell_type": "code",
   "execution_count": 15,
   "metadata": {},
   "outputs": [
    {
     "data": {
      "image/png": "[encoded data removed]",
      "text/plain": [
       "<Figure size 432x288 with 1 Axes>"
      ]
     },
     "metadata": {},
     "output_type": "display_data"
    }
   ],
   "source": [
    "e=data[data['Hours you spend on mobile or laptops  before lock-down (per-day)?']==data['Hours you spend on mobile or laptops  during lock-down (per-day)?']].count()\n",
    "max=data[data['Hours you spend on mobile or laptops  before lock-down (per-day)?']<data['Hours you spend on mobile or laptops  during lock-down (per-day)?']].count()\n",
    "min=data[data['Hours you spend on mobile or laptops  before lock-down (per-day)?']>data['Hours you spend on mobile or laptops  during lock-down (per-day)?']].count()\n",
    "slices=[e['Gender'],max['Gender'],min['Gender']]\n",
    "col=['c','m','r']\n",
    "plt.pie(slices,\n",
    "       labels=['NO Change','Increased','Decreased'],\n",
    "       colors=col,\n",
    "       startangle=90,\n",
    "       shadow=True,\n",
    "       explode=(0,0,0),\n",
    "       autopct=\"%1.1f%%\")\n",
    "plt.title(\"Time Spend on Mobiles and Laptops\",fontweight='bold')\n",
    "plt.show()"
   ]
  },
  {
   "cell_type": "markdown",
   "metadata": {},
   "source": [
    "## Cumulative time spend on gadgets group by gender"
   ]
  },
  {
   "cell_type": "code",
   "execution_count": 16,
   "metadata": {},
   "outputs": [
    {
     "data": {
      "text/plain": [
       "Hours you spend on mobile or laptops  before lock-down (per-day)?    3.444444\n",
       "dtype: float64"
      ]
     },
     "execution_count": 16,
     "metadata": {},
     "output_type": "execute_result"
    }
   ],
   "source": [
    "data[['Hours you spend on mobile or laptops  before lock-down (per-day)?']].mean()"
   ]
  },
  {
   "cell_type": "code",
   "execution_count": 17,
   "metadata": {},
   "outputs": [
    {
     "data": {
      "text/plain": [
       "Hours you spend on mobile or laptops  during lock-down (per-day)?    4.864198\n",
       "dtype: float64"
      ]
     },
     "execution_count": 17,
     "metadata": {},
     "output_type": "execute_result"
    }
   ],
   "source": [
    "data[['Hours you spend on mobile or laptops  during lock-down (per-day)?']].mean()"
   ]
  },
  {
   "cell_type": "code",
   "execution_count": 18,
   "metadata": {},
   "outputs": [
    {
     "data": {
      "image/png": "[encoded data removed]",
      "text/plain": [
       "<Figure size 432x288 with 1 Axes>"
      ]
     },
     "metadata": {
      "needs_background": "light"
     },
     "output_type": "display_data"
    }
   ],
   "source": [
    "y=[3.369863,4.821918]\n",
    "x=['Before Lock-down','During Lock-down']\n",
    "plt.bar(x,y,color=['r','b'])\n",
    "plt.ylabel(\"Average Time(Hours)\",fontweight='bold')\n",
    "plt.title(\"Average Time spend on gadgets(Per-day)\",fontweight='bold',color='grey')\n",
    "plt.show()"
   ]
  },
  {
   "cell_type": "code",
   "execution_count": 19,
   "metadata": {
    "scrolled": true
   },
   "outputs": [
    {
     "data": {
      "text/html": [
       "<div>\n",
       "<style scoped>\n",
       "    .dataframe tbody tr th:only-of-type {\n",
       "        vertical-align: middle;\n",
       "    }\n",
       "\n",
       "    .dataframe tbody tr th {\n",
       "        vertical-align: top;\n",
       "    }\n",
       "\n",
       "    .dataframe thead th {\n",
       "        text-align: right;\n",
       "    }\n",
       "</style>\n",
       "<table border=\"1\" class=\"dataframe\">\n",
       "  <thead>\n",
       "    <tr style=\"text-align: right;\">\n",
       "      <th></th>\n",
       "      <th>Hours you spend on mobile or laptops  before lock-down (per-day)?</th>\n",
       "    </tr>\n",
       "    <tr>\n",
       "      <th>Gender</th>\n",
       "      <th></th>\n",
       "    </tr>\n",
       "  </thead>\n",
       "  <tbody>\n",
       "    <tr>\n",
       "      <th>Female</th>\n",
       "      <td>3.327273</td>\n",
       "    </tr>\n",
       "    <tr>\n",
       "      <th>Male</th>\n",
       "      <td>3.692308</td>\n",
       "    </tr>\n",
       "  </tbody>\n",
       "</table>\n",
       "</div>"
      ],
      "text/plain": [
       "        Hours you spend on mobile or laptops  before lock-down (per-day)?\n",
       "Gender                                                                   \n",
       "Female                                           3.327273                \n",
       "Male                                             3.692308                "
      ]
     },
     "execution_count": 19,
     "metadata": {},
     "output_type": "execute_result"
    }
   ],
   "source": [
    "data[['Hours you spend on mobile or laptops  before lock-down (per-day)?','Gender']].groupby('Gender').mean()"
   ]
  },
  {
   "cell_type": "code",
   "execution_count": 20,
   "metadata": {},
   "outputs": [
    {
     "data": {
      "text/html": [
       "<div>\n",
       "<style scoped>\n",
       "    .dataframe tbody tr th:only-of-type {\n",
       "        vertical-align: middle;\n",
       "    }\n",
       "\n",
       "    .dataframe tbody tr th {\n",
       "        vertical-align: top;\n",
       "    }\n",
       "\n",
       "    .dataframe thead th {\n",
       "        text-align: right;\n",
       "    }\n",
       "</style>\n",
       "<table border=\"1\" class=\"dataframe\">\n",
       "  <thead>\n",
       "    <tr style=\"text-align: right;\">\n",
       "      <th></th>\n",
       "      <th>Hours you spend on mobile or laptops  during lock-down (per-day)?</th>\n",
       "    </tr>\n",
       "    <tr>\n",
       "      <th>Gender</th>\n",
       "      <th></th>\n",
       "    </tr>\n",
       "  </thead>\n",
       "  <tbody>\n",
       "    <tr>\n",
       "      <th>Female</th>\n",
       "      <td>4.945455</td>\n",
       "    </tr>\n",
       "    <tr>\n",
       "      <th>Male</th>\n",
       "      <td>4.692308</td>\n",
       "    </tr>\n",
       "  </tbody>\n",
       "</table>\n",
       "</div>"
      ],
      "text/plain": [
       "        Hours you spend on mobile or laptops  during lock-down (per-day)?\n",
       "Gender                                                                   \n",
       "Female                                           4.945455                \n",
       "Male                                             4.692308                "
      ]
     },
     "execution_count": 20,
     "metadata": {},
     "output_type": "execute_result"
    }
   ],
   "source": [
    "data[['Hours you spend on mobile or laptops  during lock-down (per-day)?','Gender']].groupby('Gender').mean()"
   ]
  },
  {
   "cell_type": "code",
   "execution_count": 21,
   "metadata": {},
   "outputs": [
    {
     "data": {
      "image/png": "[encoded data removed]",
      "text/plain": [
       "<Figure size 432x288 with 1 Axes>"
      ]
     },
     "metadata": {
      "needs_background": "light"
     },
     "output_type": "display_data"
    }
   ],
   "source": [
    "y=[3.327273,4.945455]\n",
    "x=['Before Lock-down','During Lock-down']\n",
    "plt.bar(x,y,color=['r','m'])\n",
    "plt.ylabel(\"Average Time(Hours)\",fontweight='bold')\n",
    "plt.xlabel(\"Female\",fontweight='bold')\n",
    "plt.title(\"Average Time spend on gadgets(Per-day)\",fontweight='bold',color='grey')\n",
    "plt.show()"
   ]
  },
  {
   "cell_type": "code",
   "execution_count": 22,
   "metadata": {},
   "outputs": [
    {
     "data": {
      "image/png": "[encoded data removed]",
      "text/plain": [
       "<Figure size 432x288 with 1 Axes>"
      ]
     },
     "metadata": {
      "needs_background": "light"
     },
     "output_type": "display_data"
    }
   ],
   "source": [
    "y=[3.692308,4.692308]\n",
    "x=['Before Lock-down','During Lock-down']\n",
    "plt.bar(x,y,color=['r','m'])\n",
    "plt.ylabel(\"Average Time(Hours)\",fontweight='bold')\n",
    "plt.xlabel(\"Male\",fontweight='bold')\n",
    "plt.title(\"Average Time spend on gadgets(Per-day)\",fontweight='bold',color='grey')\n",
    "plt.show()"
   ]
  },
  {
   "cell_type": "code",
   "execution_count": 23,
   "metadata": {},
   "outputs": [
    {
     "data": {
      "image/png": "[encoded data removed]",
      "text/plain": [
       "<Figure size 432x288 with 1 Axes>"
      ]
     },
     "metadata": {
      "needs_background": "light"
     },
     "output_type": "display_data"
    }
   ],
   "source": [
    "y=[3.327273,3.692308]\n",
    "x=['Female','Male']\n",
    "plt.bar(x,y,color=['pink','b'])\n",
    "plt.ylabel(\"Average Time(Hours)\",fontweight='bold')\n",
    "plt.xlabel(\"Gender\",fontweight='bold')\n",
    "plt.title(\"Average Time spend on gadgets(Per-day) before lock-down\",fontweight='bold',color='grey')\n",
    "plt.show()"
   ]
  },
  {
   "cell_type": "code",
   "execution_count": 24,
   "metadata": {},
   "outputs": [
    {
     "data": {
      "image/png": "[encoded data removed]",
      "text/plain": [
       "<Figure size 432x288 with 1 Axes>"
      ]
     },
     "metadata": {
      "needs_background": "light"
     },
     "output_type": "display_data"
    }
   ],
   "source": [
    "y=[4.945455,4.692308]\n",
    "x=['Female','Male']\n",
    "plt.bar(x,y,color=['pink','b'])\n",
    "plt.ylabel(\"Average Time(Hours)\",fontweight='bold')\n",
    "plt.xlabel(\"Gender\",fontweight='bold')\n",
    "plt.title(\"Average Time spend on gadgets(Per-day) during lock-down\",fontweight='bold',color='grey')\n",
    "plt.show()"
   ]
  },
  {
   "cell_type": "markdown",
   "metadata": {},
   "source": [
    "## No. of People depressed during Lockdown"
   ]
  },
  {
   "cell_type": "code",
   "execution_count": 25,
   "metadata": {},
   "outputs": [],
   "source": [
    "d=data[data['Have you ever feel depressed before lock-down?']=='No']"
   ]
  },
  {
   "cell_type": "code",
   "execution_count": 26,
   "metadata": {},
   "outputs": [],
   "source": [
    "y=d[d['Have you  feel depressed during lock-down?']=='Yes'].count()"
   ]
  },
  {
   "cell_type": "code",
   "execution_count": 27,
   "metadata": {},
   "outputs": [],
   "source": [
    "m=d[d['Have you  feel depressed during lock-down?']=='Maybe'].count()"
   ]
  },
  {
   "cell_type": "code",
   "execution_count": 28,
   "metadata": {},
   "outputs": [
    {
     "data": {
      "image/png": "[encoded data removed]",
      "text/plain": [
       "<Figure size 432x288 with 1 Axes>"
      ]
     },
     "metadata": {},
     "output_type": "display_data"
    }
   ],
   "source": [
    "slices=[y['Gender'],m['Gender']]\n",
    "col=['m','r']\n",
    "plt.pie(slices,\n",
    "       labels=['Yes','Maybe'],\n",
    "       colors=col,\n",
    "       startangle=90,\n",
    "       shadow=True,\n",
    "       explode=(0,0),\n",
    "       autopct=\"%1.1f%%\")\n",
    "plt.title(\"Got Depressed during lock-down\",fontweight='bold')\n",
    "plt.show()"
   ]
  },
  {
   "cell_type": "code",
   "execution_count": 29,
   "metadata": {},
   "outputs": [],
   "source": [
    "d=data[data['Have you ever feel depressed before lock-down?']=='Yes']"
   ]
  },
  {
   "cell_type": "code",
   "execution_count": 30,
   "metadata": {},
   "outputs": [],
   "source": [
    "n=d[d['Have you  feel depressed during lock-down?']=='No'].count()"
   ]
  },
  {
   "cell_type": "code",
   "execution_count": 31,
   "metadata": {},
   "outputs": [
    {
     "data": {
      "image/png": "[encoded data removed]",
      "text/plain": [
       "<Figure size 432x288 with 1 Axes>"
      ]
     },
     "metadata": {},
     "output_type": "display_data"
    }
   ],
   "source": [
    "slices=[d['Gender'].count(),n['Gender']]\n",
    "col=['m','r']\n",
    "plt.pie(slices,\n",
    "       labels=['Depressed before lock-down','Recovered from depression during lock-down'],\n",
    "       colors=col,\n",
    "       startangle=90,\n",
    "       shadow=True,\n",
    "       explode=(0,0),\n",
    "       autopct=\"%1.1f%%\")\n",
    "plt.title(\"People who are depressed before lock-down but not during lock-down \",fontweight='bold')\n",
    "plt.show()"
   ]
  },
  {
   "cell_type": "markdown",
   "metadata": {},
   "source": [
    "## Learn Someting new during lock-down"
   ]
  },
  {
   "cell_type": "code",
   "execution_count": 32,
   "metadata": {},
   "outputs": [],
   "source": [
    "n=data[data['Did you learn anything new during lock-down?']=='Nothing'].count()"
   ]
  },
  {
   "cell_type": "code",
   "execution_count": 33,
   "metadata": {},
   "outputs": [],
   "source": [
    "y=data[data['Did you learn anything new during lock-down?']!='Nothing'].count()"
   ]
  },
  {
   "cell_type": "code",
   "execution_count": 34,
   "metadata": {},
   "outputs": [
    {
     "data": {
      "image/png": "[encoded data removed]",
      "text/plain": [
       "<Figure size 432x288 with 1 Axes>"
      ]
     },
     "metadata": {},
     "output_type": "display_data"
    }
   ],
   "source": [
    "slices=[y['Gender'],n['Gender']]\n",
    "col=['tomato','c']\n",
    "plt.pie(slices,\n",
    "       labels=['Yes','No'],\n",
    "       colors=col,\n",
    "       startangle=90,\n",
    "       shadow=True,\n",
    "       explode=(0,0),\n",
    "       autopct=\"%1.1f%%\")\n",
    "plt.title(\"Learned Someting during lock-down\",fontweight='bold')\n",
    "plt.show()"
   ]
  },
  {
   "cell_type": "code",
   "execution_count": 35,
   "metadata": {},
   "outputs": [
    {
     "data": {
      "image/png": "[encoded data removed]",
      "text/plain": [
       "<Figure size 432x288 with 1 Axes>"
      ]
     },
     "metadata": {},
     "output_type": "display_data"
    }
   ],
   "source": [
    "slices=[49,4,3,10]\n",
    "col=['crimson','c','r','b']\n",
    "plt.pie(slices,\n",
    "       labels=['Cooking','Music','Art','Other'],\n",
    "       colors=col,\n",
    "       startangle=90,\n",
    "       shadow=True,\n",
    "       explode=(0,0,0,0.1),\n",
    "       autopct=\"%1.1f%%\")\n",
    "plt.show()"
   ]
  },
  {
   "cell_type": "markdown",
   "metadata": {},
   "source": [
    "## How They calm there mind"
   ]
  },
  {
   "cell_type": "code",
   "execution_count": 36,
   "metadata": {},
   "outputs": [
    {
     "data": {
      "image/png": "[encoded data removed]",
      "text/plain": [
       "<Figure size 432x288 with 1 Axes>"
      ]
     },
     "metadata": {},
     "output_type": "display_data"
    }
   ],
   "source": [
    "slices=[27,17,16,8,13]\n",
    "col=['crimson','c','r','b','coral']\n",
    "plt.pie(slices,\n",
    "       labels=['Music','Movies','Meditation','Prayer','Other'],\n",
    "       colors=col,\n",
    "       startangle=90,\n",
    "       shadow=True,\n",
    "       explode=(0,0,0,0,0),\n",
    "       autopct=\"%1.1f%%\")\n",
    "plt.title(\"What you'll prefer to calm your mind?\",fontweight='bold',color='gray')\n",
    "plt.show()"
   ]
  },
  {
   "cell_type": "markdown",
   "metadata": {},
   "source": [
    "## Reason of Depression "
   ]
  },
  {
   "cell_type": "code",
   "execution_count": 37,
   "metadata": {},
   "outputs": [
    {
     "data": {
      "image/png": "[encoded data removed]",
      "text/plain": [
       "<Figure size 432x288 with 1 Axes>"
      ]
     },
     "metadata": {},
     "output_type": "display_data"
    }
   ],
   "source": [
    "slices=[8,6,5,2,4,1]\n",
    "col=['crimson','c','r','b','coral','pink']\n",
    "plt.pie(slices,\n",
    "       labels=['Health and career','Because of lock-down','Stuck at home','Not willing to tell','finacial Condition','other'],\n",
    "       colors=col,\n",
    "       startangle=90,\n",
    "       shadow=True,\n",
    "       explode=(0.1,0,0,0,0,0),\n",
    "       autopct=\"%1.1f%%\")\n",
    "plt.title(\"Reason of depression\",fontweight='bold')\n",
    "plt.show()"
   ]
  },
  {
   "cell_type": "code",
   "execution_count": 38,
   "metadata": {},
   "outputs": [
    {
     "data": {
      "text/html": [
       "<div>\n",
       "<style scoped>\n",
       "    .dataframe tbody tr th:only-of-type {\n",
       "        vertical-align: middle;\n",
       "    }\n",
       "\n",
       "    .dataframe tbody tr th {\n",
       "        vertical-align: top;\n",
       "    }\n",
       "\n",
       "    .dataframe thead th {\n",
       "        text-align: right;\n",
       "    }\n",
       "</style>\n",
       "<table border=\"1\" class=\"dataframe\">\n",
       "  <thead>\n",
       "    <tr style=\"text-align: right;\">\n",
       "      <th></th>\n",
       "      <th>Gender</th>\n",
       "    </tr>\n",
       "    <tr>\n",
       "      <th>Education</th>\n",
       "      <th></th>\n",
       "    </tr>\n",
       "  </thead>\n",
       "  <tbody>\n",
       "    <tr>\n",
       "      <th>PG</th>\n",
       "      <td>7</td>\n",
       "    </tr>\n",
       "    <tr>\n",
       "      <th>Phd</th>\n",
       "      <td>2</td>\n",
       "    </tr>\n",
       "    <tr>\n",
       "      <th>UG</th>\n",
       "      <td>72</td>\n",
       "    </tr>\n",
       "  </tbody>\n",
       "</table>\n",
       "</div>"
      ],
      "text/plain": [
       "           Gender\n",
       "Education        \n",
       "PG              7\n",
       "Phd             2\n",
       "UG             72"
      ]
     },
     "execution_count": 38,
     "metadata": {},
     "output_type": "execute_result"
    }
   ],
   "source": [
    "data[['Gender','Education']].groupby('Education').count()"
   ]
  },
  {
   "cell_type": "code",
   "execution_count": 39,
   "metadata": {},
   "outputs": [
    {
     "data": {
      "text/plain": [
       "Timestamp                                                            1\n",
       "Username                                                             1\n",
       "Gender                                                               1\n",
       "Name                                                                 1\n",
       "Education                                                            1\n",
       "Did you learn anything new during lock-down?                         1\n",
       "Your sleeping hours per day before lock-down?                        1\n",
       "Your sleeping hours per day during lockdown?                         1\n",
       "Hours you spend on mobile or laptops  before lock-down (per-day)?    1\n",
       "Hours you spend on mobile or laptops  during lock-down (per-day)?    1\n",
       "Have you notice any behavior change in you during lock-down?         1\n",
       "What you'll prefer to calm your mind?                                1\n",
       "Have you ever feel depressed before lock-down?                       1\n",
       "Have you  feel depressed during lock-down?                           1\n",
       "Did you talk to anyone about your depression?                        1\n",
       "You are depressed because?                                           0\n",
       "Do you need any help regarding your depression?                      1\n",
       "Have you watched Harry-Potter?                                       1\n",
       "dtype: int64"
      ]
     },
     "execution_count": 39,
     "metadata": {},
     "output_type": "execute_result"
    }
   ],
   "source": [
    "d=data[data['Did you learn anything new during lock-down?']=='Music']\n",
    "d[d['Gender']=='Male'].count()"
   ]
  },
  {
   "cell_type": "code",
   "execution_count": 40,
   "metadata": {},
   "outputs": [
    {
     "data": {
      "image/png": "[encoded data removed]",
      "text/plain": [
       "<Figure size 432x288 with 1 Axes>"
      ]
     },
     "metadata": {},
     "output_type": "display_data"
    }
   ],
   "source": [
    "slices=[23,10,12,1]\n",
    "col=['crimson','c','r','b']\n",
    "plt.pie(slices,\n",
    "       labels=['NO','Yes',\"I don't want to\",\"I was scared\"],\n",
    "       colors=col,\n",
    "       startangle=90,\n",
    "       shadow=True,\n",
    "       explode=(0,0,0,0.1),\n",
    "       autopct=\"%1.1f%%\")\n",
    "plt.title(\"Talked about Depression\",fontweight='bold')\n",
    "plt.show()"
   ]
  },
  {
   "cell_type": "code",
   "execution_count": 41,
   "metadata": {},
   "outputs": [],
   "source": [
    "d=data[data['Have you ever feel depressed before lock-down?']!='No']\n",
    "q=d[d['Have you  feel depressed during lock-down?']!='No']"
   ]
  },
  {
   "cell_type": "code",
   "execution_count": 42,
   "metadata": {},
   "outputs": [],
   "source": [
    "n=d[d['Have you  feel depressed during lock-down?']=='No']\n",
    "y=d[d['Have you  feel depressed during lock-down?']=='Yes']\n",
    "m=d[d['Have you  feel depressed during lock-down?']=='Maybe']"
   ]
  },
  {
   "cell_type": "code",
   "execution_count": 43,
   "metadata": {},
   "outputs": [
    {
     "data": {
      "text/plain": [
       "Timestamp                                                            3\n",
       "Username                                                             3\n",
       "Gender                                                               3\n",
       "Name                                                                 3\n",
       "Education                                                            3\n",
       "Did you learn anything new during lock-down?                         3\n",
       "Your sleeping hours per day before lock-down?                        3\n",
       "Your sleeping hours per day during lockdown?                         3\n",
       "Hours you spend on mobile or laptops  before lock-down (per-day)?    3\n",
       "Hours you spend on mobile or laptops  during lock-down (per-day)?    3\n",
       "Have you notice any behavior change in you during lock-down?         3\n",
       "What you'll prefer to calm your mind?                                3\n",
       "Have you ever feel depressed before lock-down?                       3\n",
       "Have you  feel depressed during lock-down?                           3\n",
       "Did you talk to anyone about your depression?                        3\n",
       "You are depressed because?                                           1\n",
       "Do you need any help regarding your depression?                      3\n",
       "Have you watched Harry-Potter?                                       3\n",
       "dtype: int64"
      ]
     },
     "execution_count": 43,
     "metadata": {},
     "output_type": "execute_result"
    }
   ],
   "source": [
    "n.count()"
   ]
  },
  {
   "cell_type": "code",
   "execution_count": 44,
   "metadata": {},
   "outputs": [
    {
     "data": {
      "text/plain": [
       "Timestamp                                                            14\n",
       "Username                                                             14\n",
       "Gender                                                               14\n",
       "Name                                                                 14\n",
       "Education                                                            14\n",
       "Did you learn anything new during lock-down?                         14\n",
       "Your sleeping hours per day before lock-down?                        14\n",
       "Your sleeping hours per day during lockdown?                         14\n",
       "Hours you spend on mobile or laptops  before lock-down (per-day)?    14\n",
       "Hours you spend on mobile or laptops  during lock-down (per-day)?    14\n",
       "Have you notice any behavior change in you during lock-down?         14\n",
       "What you'll prefer to calm your mind?                                14\n",
       "Have you ever feel depressed before lock-down?                       14\n",
       "Have you  feel depressed during lock-down?                           14\n",
       "Did you talk to anyone about your depression?                        14\n",
       "You are depressed because?                                           12\n",
       "Do you need any help regarding your depression?                      14\n",
       "Have you watched Harry-Potter?                                       14\n",
       "dtype: int64"
      ]
     },
     "execution_count": 44,
     "metadata": {},
     "output_type": "execute_result"
    }
   ],
   "source": [
    "y.count()"
   ]
  },
  {
   "cell_type": "code",
   "execution_count": 45,
   "metadata": {},
   "outputs": [
    {
     "data": {
      "text/plain": [
       "Timestamp                                                            5\n",
       "Username                                                             5\n",
       "Gender                                                               5\n",
       "Name                                                                 5\n",
       "Education                                                            5\n",
       "Did you learn anything new during lock-down?                         5\n",
       "Your sleeping hours per day before lock-down?                        5\n",
       "Your sleeping hours per day during lockdown?                         5\n",
       "Hours you spend on mobile or laptops  before lock-down (per-day)?    5\n",
       "Hours you spend on mobile or laptops  during lock-down (per-day)?    5\n",
       "Have you notice any behavior change in you during lock-down?         5\n",
       "What you'll prefer to calm your mind?                                5\n",
       "Have you ever feel depressed before lock-down?                       5\n",
       "Have you  feel depressed during lock-down?                           5\n",
       "Did you talk to anyone about your depression?                        5\n",
       "You are depressed because?                                           3\n",
       "Do you need any help regarding your depression?                      5\n",
       "Have you watched Harry-Potter?                                       5\n",
       "dtype: int64"
      ]
     },
     "execution_count": 45,
     "metadata": {},
     "output_type": "execute_result"
    }
   ],
   "source": [
    "m.count()"
   ]
  },
  {
   "cell_type": "code",
   "execution_count": 46,
   "metadata": {},
   "outputs": [
    {
     "data": {
      "text/plain": [
       "Timestamp                                                            22\n",
       "Username                                                             22\n",
       "Gender                                                               22\n",
       "Name                                                                 22\n",
       "Education                                                            22\n",
       "Did you learn anything new during lock-down?                         22\n",
       "Your sleeping hours per day before lock-down?                        22\n",
       "Your sleeping hours per day during lockdown?                         22\n",
       "Hours you spend on mobile or laptops  before lock-down (per-day)?    22\n",
       "Hours you spend on mobile or laptops  during lock-down (per-day)?    22\n",
       "Have you notice any behavior change in you during lock-down?         22\n",
       "What you'll prefer to calm your mind?                                22\n",
       "Have you ever feel depressed before lock-down?                       22\n",
       "Have you  feel depressed during lock-down?                           22\n",
       "Did you talk to anyone about your depression?                        22\n",
       "You are depressed because?                                           16\n",
       "Do you need any help regarding your depression?                      22\n",
       "Have you watched Harry-Potter?                                       22\n",
       "dtype: int64"
      ]
     },
     "execution_count": 46,
     "metadata": {},
     "output_type": "execute_result"
    }
   ],
   "source": [
    "d.count()"
   ]
  },
  {
   "cell_type": "code",
   "execution_count": 47,
   "metadata": {},
   "outputs": [
    {
     "data": {
      "image/png": "[encoded data removed]",
      "text/plain": [
       "<Figure size 432x288 with 1 Axes>"
      ]
     },
     "metadata": {},
     "output_type": "display_data"
    }
   ],
   "source": [
    "slices=[3,14,5]\n",
    "col=['b','c','r']\n",
    "plt.pie(slices,\n",
    "       labels=['NO','Yes','Maybe'],\n",
    "       colors=col,\n",
    "       startangle=90,\n",
    "       shadow=True,\n",
    "       explode=(0.1,0,0),\n",
    "       autopct=\"%1.1f%%\")\n",
    "plt.title(\"Need Help\",fontweight='bold')\n",
    "plt.show()"
   ]
  },
  {
   "cell_type": "code",
   "execution_count": 48,
   "metadata": {},
   "outputs": [
    {
     "data": {
      "text/plain": [
       "Timestamp                                                            19\n",
       "Username                                                             19\n",
       "Gender                                                               19\n",
       "Name                                                                 19\n",
       "Education                                                            19\n",
       "Did you learn anything new during lock-down?                         19\n",
       "Your sleeping hours per day before lock-down?                        19\n",
       "Your sleeping hours per day during lockdown?                         19\n",
       "Hours you spend on mobile or laptops  before lock-down (per-day)?    19\n",
       "Hours you spend on mobile or laptops  during lock-down (per-day)?    19\n",
       "Have you notice any behavior change in you during lock-down?         19\n",
       "What you'll prefer to calm your mind?                                19\n",
       "Have you ever feel depressed before lock-down?                       19\n",
       "Have you  feel depressed during lock-down?                           19\n",
       "Did you talk to anyone about your depression?                        19\n",
       "You are depressed because?                                           15\n",
       "Do you need any help regarding your depression?                      19\n",
       "Have you watched Harry-Potter?                                       19\n",
       "dtype: int64"
      ]
     },
     "execution_count": 48,
     "metadata": {},
     "output_type": "execute_result"
    }
   ],
   "source": [
    "q.count()"
   ]
  },
  {
   "cell_type": "code",
   "execution_count": 49,
   "metadata": {},
   "outputs": [
    {
     "data": {
      "text/html": [
       "<div>\n",
       "<style scoped>\n",
       "    .dataframe tbody tr th:only-of-type {\n",
       "        vertical-align: middle;\n",
       "    }\n",
       "\n",
       "    .dataframe tbody tr th {\n",
       "        vertical-align: top;\n",
       "    }\n",
       "\n",
       "    .dataframe thead th {\n",
       "        text-align: right;\n",
       "    }\n",
       "</style>\n",
       "<table border=\"1\" class=\"dataframe\">\n",
       "  <thead>\n",
       "    <tr style=\"text-align: right;\">\n",
       "      <th></th>\n",
       "      <th>Timestamp</th>\n",
       "      <th>Username</th>\n",
       "      <th>Gender</th>\n",
       "      <th>Name</th>\n",
       "      <th>Education</th>\n",
       "      <th>Did you learn anything new during lock-down?</th>\n",
       "      <th>Your sleeping hours per day before lock-down?</th>\n",
       "      <th>Your sleeping hours per day during lockdown?</th>\n",
       "      <th>Hours you spend on mobile or laptops  before lock-down (per-day)?</th>\n",
       "      <th>Hours you spend on mobile or laptops  during lock-down (per-day)?</th>\n",
       "      <th>Have you notice any behavior change in you during lock-down?</th>\n",
       "      <th>What you'll prefer to calm your mind?</th>\n",
       "      <th>Have you ever feel depressed before lock-down?</th>\n",
       "      <th>Have you  feel depressed during lock-down?</th>\n",
       "      <th>Did you talk to anyone about your depression?</th>\n",
       "      <th>You are depressed because?</th>\n",
       "      <th>Do you need any help regarding your depression?</th>\n",
       "      <th>Have you watched Harry-Potter?</th>\n",
       "    </tr>\n",
       "  </thead>\n",
       "  <tbody>\n",
       "    <tr>\n",
       "      <th>0</th>\n",
       "      <td>2020/06/26 7:37:17 PM GMT+5:30</td>\n",
       "      <td>khyusra@iul.ac.in</td>\n",
       "      <td>Female</td>\n",
       "      <td>Yusra Khatoon</td>\n",
       "      <td>UG</td>\n",
       "      <td>Cooking</td>\n",
       "      <td>8</td>\n",
       "      <td>10</td>\n",
       "      <td>4</td>\n",
       "      <td>4</td>\n",
       "      <td>Yes</td>\n",
       "      <td>Meditation</td>\n",
       "      <td>No</td>\n",
       "      <td>No</td>\n",
       "      <td>I'm Not depressed</td>\n",
       "      <td>I'm not depressed.</td>\n",
       "      <td>No</td>\n",
       "      <td>No</td>\n",
       "    </tr>\n",
       "    <tr>\n",
       "      <th>1</th>\n",
       "      <td>2020/06/26 7:44:00 PM GMT+5:30</td>\n",
       "      <td>ziaafreen@iul.ac.in</td>\n",
       "      <td>Female</td>\n",
       "      <td>Zia Afreen</td>\n",
       "      <td>UG</td>\n",
       "      <td>Giving time to self for success</td>\n",
       "      <td>6</td>\n",
       "      <td>8</td>\n",
       "      <td>2</td>\n",
       "      <td>4</td>\n",
       "      <td>Maybe</td>\n",
       "      <td>Praying and believe in the things in which i w...</td>\n",
       "      <td>No</td>\n",
       "      <td>No</td>\n",
       "      <td>I'm Not depressed</td>\n",
       "      <td>No I never got depressed</td>\n",
       "      <td>No</td>\n",
       "      <td>Yes</td>\n",
       "    </tr>\n",
       "    <tr>\n",
       "      <th>2</th>\n",
       "      <td>2020/06/26 7:50:21 PM GMT+5:30</td>\n",
       "      <td>hinaahad@student.iul.ac.in</td>\n",
       "      <td>Female</td>\n",
       "      <td>Hina ahad</td>\n",
       "      <td>UG</td>\n",
       "      <td>Cooking</td>\n",
       "      <td>6</td>\n",
       "      <td>10</td>\n",
       "      <td>2</td>\n",
       "      <td>6</td>\n",
       "      <td>Maybe</td>\n",
       "      <td>Music</td>\n",
       "      <td>No</td>\n",
       "      <td>No</td>\n",
       "      <td>No</td>\n",
       "      <td>NaN</td>\n",
       "      <td>No</td>\n",
       "      <td>Yes</td>\n",
       "    </tr>\n",
       "    <tr>\n",
       "      <th>3</th>\n",
       "      <td>2020/06/26 7:50:58 PM GMT+5:30</td>\n",
       "      <td>mdasfar@iul.ac.in</td>\n",
       "      <td>Male</td>\n",
       "      <td>Md Asfar</td>\n",
       "      <td>PG</td>\n",
       "      <td>Cooking</td>\n",
       "      <td>6</td>\n",
       "      <td>8</td>\n",
       "      <td>2</td>\n",
       "      <td>4</td>\n",
       "      <td>No</td>\n",
       "      <td>Music</td>\n",
       "      <td>No</td>\n",
       "      <td>Yes</td>\n",
       "      <td>I don't want to</td>\n",
       "      <td>Because I can't stay at home🏠 long time</td>\n",
       "      <td>No</td>\n",
       "      <td>Yes</td>\n",
       "    </tr>\n",
       "    <tr>\n",
       "      <th>4</th>\n",
       "      <td>2020/06/26 7:51:17 PM GMT+5:30</td>\n",
       "      <td>asiyaprvn@iul.ac.in</td>\n",
       "      <td>Female</td>\n",
       "      <td>Asiya Parveen</td>\n",
       "      <td>PG</td>\n",
       "      <td>Cooking</td>\n",
       "      <td>8</td>\n",
       "      <td>8</td>\n",
       "      <td>4</td>\n",
       "      <td>4</td>\n",
       "      <td>Yes</td>\n",
       "      <td>Music</td>\n",
       "      <td>Yes</td>\n",
       "      <td>Yes</td>\n",
       "      <td>No</td>\n",
       "      <td>Because of living home permanent.</td>\n",
       "      <td>Yes</td>\n",
       "      <td>Yes</td>\n",
       "    </tr>\n",
       "    <tr>\n",
       "      <th>...</th>\n",
       "      <td>...</td>\n",
       "      <td>...</td>\n",
       "      <td>...</td>\n",
       "      <td>...</td>\n",
       "      <td>...</td>\n",
       "      <td>...</td>\n",
       "      <td>...</td>\n",
       "      <td>...</td>\n",
       "      <td>...</td>\n",
       "      <td>...</td>\n",
       "      <td>...</td>\n",
       "      <td>...</td>\n",
       "      <td>...</td>\n",
       "      <td>...</td>\n",
       "      <td>...</td>\n",
       "      <td>...</td>\n",
       "      <td>...</td>\n",
       "      <td>...</td>\n",
       "    </tr>\n",
       "    <tr>\n",
       "      <th>76</th>\n",
       "      <td>2020/06/29 12:22:44 AM GMT+5:30</td>\n",
       "      <td>tshobhna604@gmail.com</td>\n",
       "      <td>Female</td>\n",
       "      <td>Shobhna mishra</td>\n",
       "      <td>UG</td>\n",
       "      <td>Nothing</td>\n",
       "      <td>8</td>\n",
       "      <td>10</td>\n",
       "      <td>6</td>\n",
       "      <td>6</td>\n",
       "      <td>Yes</td>\n",
       "      <td>Music</td>\n",
       "      <td>Yes</td>\n",
       "      <td>Yes</td>\n",
       "      <td>No</td>\n",
       "      <td>Because im not able to focus on anything also ...</td>\n",
       "      <td>Yes</td>\n",
       "      <td>Yes</td>\n",
       "    </tr>\n",
       "    <tr>\n",
       "      <th>77</th>\n",
       "      <td>2020/06/29 12:26:56 AM GMT+5:30</td>\n",
       "      <td>ritikakes@iul.ac.in</td>\n",
       "      <td>Female</td>\n",
       "      <td>Ritika Keshari</td>\n",
       "      <td>UG</td>\n",
       "      <td>Cooking</td>\n",
       "      <td>6</td>\n",
       "      <td>8</td>\n",
       "      <td>4</td>\n",
       "      <td>6</td>\n",
       "      <td>Maybe</td>\n",
       "      <td>Talking to people I Love.</td>\n",
       "      <td>Yes</td>\n",
       "      <td>Yes</td>\n",
       "      <td>Yes</td>\n",
       "      <td>Due to my career, relation and financial condi...</td>\n",
       "      <td>Maybe</td>\n",
       "      <td>Yes</td>\n",
       "    </tr>\n",
       "    <tr>\n",
       "      <th>78</th>\n",
       "      <td>2020/06/29 1:09:57 AM GMT+5:30</td>\n",
       "      <td>sezal@iul.ac.in</td>\n",
       "      <td>Female</td>\n",
       "      <td>Sezal</td>\n",
       "      <td>UG</td>\n",
       "      <td>Nothing</td>\n",
       "      <td>8</td>\n",
       "      <td>10</td>\n",
       "      <td>4</td>\n",
       "      <td>6</td>\n",
       "      <td>Maybe</td>\n",
       "      <td>Music</td>\n",
       "      <td>Yes</td>\n",
       "      <td>No</td>\n",
       "      <td>Yes</td>\n",
       "      <td>NaN</td>\n",
       "      <td>No</td>\n",
       "      <td>Yes</td>\n",
       "    </tr>\n",
       "    <tr>\n",
       "      <th>79</th>\n",
       "      <td>2020/06/29 9:28:11 PM GMT+5:30</td>\n",
       "      <td>mahimavermacp@gmail.cm</td>\n",
       "      <td>Female</td>\n",
       "      <td>Mahima verma</td>\n",
       "      <td>Phd</td>\n",
       "      <td>Music</td>\n",
       "      <td>6</td>\n",
       "      <td>8</td>\n",
       "      <td>4</td>\n",
       "      <td>6</td>\n",
       "      <td>Yes</td>\n",
       "      <td>Meditation</td>\n",
       "      <td>Maybe</td>\n",
       "      <td>Maybe</td>\n",
       "      <td>No</td>\n",
       "      <td>NaN</td>\n",
       "      <td>No</td>\n",
       "      <td>Yes</td>\n",
       "    </tr>\n",
       "    <tr>\n",
       "      <th>80</th>\n",
       "      <td>2020/06/29 9:30:50 PM GMT+5:30</td>\n",
       "      <td>panditad@iul.ac.in</td>\n",
       "      <td>Male</td>\n",
       "      <td>Adya pandey</td>\n",
       "      <td>UG</td>\n",
       "      <td>A lot of things including both a and b</td>\n",
       "      <td>8</td>\n",
       "      <td>8</td>\n",
       "      <td>6</td>\n",
       "      <td>6</td>\n",
       "      <td>Maybe</td>\n",
       "      <td>All of the above</td>\n",
       "      <td>Yes</td>\n",
       "      <td>Yes</td>\n",
       "      <td>No</td>\n",
       "      <td>Financial status of my family very weak</td>\n",
       "      <td>No</td>\n",
       "      <td>Yes</td>\n",
       "    </tr>\n",
       "  </tbody>\n",
       "</table>\n",
       "<p>81 rows × 18 columns</p>\n",
       "</div>"
      ],
      "text/plain": [
       "                          Timestamp                    Username  Gender  \\\n",
       "0    2020/06/26 7:37:17 PM GMT+5:30           khyusra@iul.ac.in  Female   \n",
       "1    2020/06/26 7:44:00 PM GMT+5:30         ziaafreen@iul.ac.in  Female   \n",
       "2    2020/06/26 7:50:21 PM GMT+5:30  hinaahad@student.iul.ac.in  Female   \n",
       "3    2020/06/26 7:50:58 PM GMT+5:30           mdasfar@iul.ac.in    Male   \n",
       "4    2020/06/26 7:51:17 PM GMT+5:30         asiyaprvn@iul.ac.in  Female   \n",
       "..                              ...                         ...     ...   \n",
       "76  2020/06/29 12:22:44 AM GMT+5:30       tshobhna604@gmail.com  Female   \n",
       "77  2020/06/29 12:26:56 AM GMT+5:30         ritikakes@iul.ac.in  Female   \n",
       "78   2020/06/29 1:09:57 AM GMT+5:30             sezal@iul.ac.in  Female   \n",
       "79   2020/06/29 9:28:11 PM GMT+5:30      mahimavermacp@gmail.cm  Female   \n",
       "80   2020/06/29 9:30:50 PM GMT+5:30          panditad@iul.ac.in    Male   \n",
       "\n",
       "              Name Education Did you learn anything new during lock-down?  \\\n",
       "0    Yusra Khatoon        UG                                      Cooking   \n",
       "1       Zia Afreen        UG              Giving time to self for success   \n",
       "2        Hina ahad        UG                                      Cooking   \n",
       "3         Md Asfar        PG                                      Cooking   \n",
       "4    Asiya Parveen        PG                                      Cooking   \n",
       "..             ...       ...                                          ...   \n",
       "76  Shobhna mishra        UG                                      Nothing   \n",
       "77  Ritika Keshari        UG                                      Cooking   \n",
       "78           Sezal        UG                                      Nothing   \n",
       "79    Mahima verma       Phd                                        Music   \n",
       "80     Adya pandey        UG       A lot of things including both a and b   \n",
       "\n",
       "    Your sleeping hours per day before lock-down?  \\\n",
       "0                                               8   \n",
       "1                                               6   \n",
       "2                                               6   \n",
       "3                                               6   \n",
       "4                                               8   \n",
       "..                                            ...   \n",
       "76                                              8   \n",
       "77                                              6   \n",
       "78                                              8   \n",
       "79                                              6   \n",
       "80                                              8   \n",
       "\n",
       "    Your sleeping hours per day during lockdown?  \\\n",
       "0                                             10   \n",
       "1                                              8   \n",
       "2                                             10   \n",
       "3                                              8   \n",
       "4                                              8   \n",
       "..                                           ...   \n",
       "76                                            10   \n",
       "77                                             8   \n",
       "78                                            10   \n",
       "79                                             8   \n",
       "80                                             8   \n",
       "\n",
       "    Hours you spend on mobile or laptops  before lock-down (per-day)?  \\\n",
       "0                                                   4                   \n",
       "1                                                   2                   \n",
       "2                                                   2                   \n",
       "3                                                   2                   \n",
       "4                                                   4                   \n",
       "..                                                ...                   \n",
       "76                                                  6                   \n",
       "77                                                  4                   \n",
       "78                                                  4                   \n",
       "79                                                  4                   \n",
       "80                                                  6                   \n",
       "\n",
       "    Hours you spend on mobile or laptops  during lock-down (per-day)?  \\\n",
       "0                                                   4                   \n",
       "1                                                   4                   \n",
       "2                                                   6                   \n",
       "3                                                   4                   \n",
       "4                                                   4                   \n",
       "..                                                ...                   \n",
       "76                                                  6                   \n",
       "77                                                  6                   \n",
       "78                                                  6                   \n",
       "79                                                  6                   \n",
       "80                                                  6                   \n",
       "\n",
       "   Have you notice any behavior change in you during lock-down?  \\\n",
       "0                                                 Yes             \n",
       "1                                               Maybe             \n",
       "2                                               Maybe             \n",
       "3                                                  No             \n",
       "4                                                 Yes             \n",
       "..                                                ...             \n",
       "76                                                Yes             \n",
       "77                                              Maybe             \n",
       "78                                              Maybe             \n",
       "79                                                Yes             \n",
       "80                                              Maybe             \n",
       "\n",
       "                What you'll prefer to calm your mind?  \\\n",
       "0                                          Meditation   \n",
       "1   Praying and believe in the things in which i w...   \n",
       "2                                               Music   \n",
       "3                                               Music   \n",
       "4                                               Music   \n",
       "..                                                ...   \n",
       "76                                              Music   \n",
       "77                          Talking to people I Love.   \n",
       "78                                              Music   \n",
       "79                                         Meditation   \n",
       "80                                   All of the above   \n",
       "\n",
       "   Have you ever feel depressed before lock-down?  \\\n",
       "0                                              No   \n",
       "1                                              No   \n",
       "2                                              No   \n",
       "3                                              No   \n",
       "4                                             Yes   \n",
       "..                                            ...   \n",
       "76                                            Yes   \n",
       "77                                            Yes   \n",
       "78                                            Yes   \n",
       "79                                          Maybe   \n",
       "80                                            Yes   \n",
       "\n",
       "   Have you  feel depressed during lock-down?  \\\n",
       "0                                          No   \n",
       "1                                          No   \n",
       "2                                          No   \n",
       "3                                         Yes   \n",
       "4                                         Yes   \n",
       "..                                        ...   \n",
       "76                                        Yes   \n",
       "77                                        Yes   \n",
       "78                                         No   \n",
       "79                                      Maybe   \n",
       "80                                        Yes   \n",
       "\n",
       "   Did you talk to anyone about your depression?  \\\n",
       "0                              I'm Not depressed   \n",
       "1                              I'm Not depressed   \n",
       "2                                             No   \n",
       "3                                I don't want to   \n",
       "4                                             No   \n",
       "..                                           ...   \n",
       "76                                            No   \n",
       "77                                           Yes   \n",
       "78                                           Yes   \n",
       "79                                            No   \n",
       "80                                            No   \n",
       "\n",
       "                           You are depressed because?  \\\n",
       "0                                  I'm not depressed.   \n",
       "1                            No I never got depressed   \n",
       "2                                                 NaN   \n",
       "3             Because I can't stay at home🏠 long time   \n",
       "4                   Because of living home permanent.   \n",
       "..                                                ...   \n",
       "76  Because im not able to focus on anything also ...   \n",
       "77  Due to my career, relation and financial condi...   \n",
       "78                                                NaN   \n",
       "79                                                NaN   \n",
       "80            Financial status of my family very weak   \n",
       "\n",
       "   Do you need any help regarding your depression?  \\\n",
       "0                                               No   \n",
       "1                                               No   \n",
       "2                                               No   \n",
       "3                                               No   \n",
       "4                                              Yes   \n",
       "..                                             ...   \n",
       "76                                             Yes   \n",
       "77                                           Maybe   \n",
       "78                                              No   \n",
       "79                                              No   \n",
       "80                                              No   \n",
       "\n",
       "   Have you watched Harry-Potter?  \n",
       "0                              No  \n",
       "1                             Yes  \n",
       "2                             Yes  \n",
       "3                             Yes  \n",
       "4                             Yes  \n",
       "..                            ...  \n",
       "76                            Yes  \n",
       "77                            Yes  \n",
       "78                            Yes  \n",
       "79                            Yes  \n",
       "80                            Yes  \n",
       "\n",
       "[81 rows x 18 columns]"
      ]
     },
     "execution_count": 49,
     "metadata": {},
     "output_type": "execute_result"
    }
   ],
   "source": [
    "data"
   ]
  },
  {
   "cell_type": "code",
   "execution_count": 52,
   "metadata": {},
   "outputs": [
    {
     "data": {
      "text/html": [
       "<div>\n",
       "<style scoped>\n",
       "    .dataframe tbody tr th:only-of-type {\n",
       "        vertical-align: middle;\n",
       "    }\n",
       "\n",
       "    .dataframe tbody tr th {\n",
       "        vertical-align: top;\n",
       "    }\n",
       "\n",
       "    .dataframe thead th {\n",
       "        text-align: right;\n",
       "    }\n",
       "</style>\n",
       "<table border=\"1\" class=\"dataframe\">\n",
       "  <thead>\n",
       "    <tr style=\"text-align: right;\">\n",
       "      <th></th>\n",
       "      <th>Timestamp</th>\n",
       "      <th>Username</th>\n",
       "      <th>Gender</th>\n",
       "      <th>Name</th>\n",
       "      <th>Education</th>\n",
       "      <th>Did you learn anything new during lock-down?</th>\n",
       "      <th>Your sleeping hours per day before lock-down?</th>\n",
       "      <th>Your sleeping hours per day during lockdown?</th>\n",
       "      <th>Hours you spend on mobile or laptops  before lock-down (per-day)?</th>\n",
       "      <th>Hours you spend on mobile or laptops  during lock-down (per-day)?</th>\n",
       "      <th>Have you notice any behavior change in you during lock-down?</th>\n",
       "      <th>What you'll prefer to calm your mind?</th>\n",
       "      <th>Have you ever feel depressed before lock-down?</th>\n",
       "      <th>Have you  feel depressed during lock-down?</th>\n",
       "      <th>Did you talk to anyone about your depression?</th>\n",
       "      <th>You are depressed because?</th>\n",
       "      <th>Do you need any help regarding your depression?</th>\n",
       "      <th>Have you watched Harry-Potter?</th>\n",
       "    </tr>\n",
       "  </thead>\n",
       "  <tbody>\n",
       "    <tr>\n",
       "      <th>0</th>\n",
       "      <td>NaN</td>\n",
       "      <td>NaN</td>\n",
       "      <td>Female</td>\n",
       "      <td>NaN</td>\n",
       "      <td>NaN</td>\n",
       "      <td>NaN</td>\n",
       "      <td>NaN</td>\n",
       "      <td>NaN</td>\n",
       "      <td>NaN</td>\n",
       "      <td>NaN</td>\n",
       "      <td>NaN</td>\n",
       "      <td>NaN</td>\n",
       "      <td>NaN</td>\n",
       "      <td>NaN</td>\n",
       "      <td>NaN</td>\n",
       "      <td>NaN</td>\n",
       "      <td>NaN</td>\n",
       "      <td>NaN</td>\n",
       "    </tr>\n",
       "    <tr>\n",
       "      <th>1</th>\n",
       "      <td>NaN</td>\n",
       "      <td>NaN</td>\n",
       "      <td>Female</td>\n",
       "      <td>NaN</td>\n",
       "      <td>NaN</td>\n",
       "      <td>NaN</td>\n",
       "      <td>NaN</td>\n",
       "      <td>NaN</td>\n",
       "      <td>NaN</td>\n",
       "      <td>NaN</td>\n",
       "      <td>NaN</td>\n",
       "      <td>NaN</td>\n",
       "      <td>NaN</td>\n",
       "      <td>NaN</td>\n",
       "      <td>NaN</td>\n",
       "      <td>NaN</td>\n",
       "      <td>NaN</td>\n",
       "      <td>NaN</td>\n",
       "    </tr>\n",
       "    <tr>\n",
       "      <th>2</th>\n",
       "      <td>NaN</td>\n",
       "      <td>NaN</td>\n",
       "      <td>Female</td>\n",
       "      <td>NaN</td>\n",
       "      <td>NaN</td>\n",
       "      <td>NaN</td>\n",
       "      <td>NaN</td>\n",
       "      <td>NaN</td>\n",
       "      <td>NaN</td>\n",
       "      <td>NaN</td>\n",
       "      <td>NaN</td>\n",
       "      <td>NaN</td>\n",
       "      <td>NaN</td>\n",
       "      <td>NaN</td>\n",
       "      <td>NaN</td>\n",
       "      <td>NaN</td>\n",
       "      <td>NaN</td>\n",
       "      <td>NaN</td>\n",
       "    </tr>\n",
       "    <tr>\n",
       "      <th>3</th>\n",
       "      <td>NaN</td>\n",
       "      <td>NaN</td>\n",
       "      <td>NaN</td>\n",
       "      <td>NaN</td>\n",
       "      <td>NaN</td>\n",
       "      <td>NaN</td>\n",
       "      <td>NaN</td>\n",
       "      <td>NaN</td>\n",
       "      <td>NaN</td>\n",
       "      <td>NaN</td>\n",
       "      <td>NaN</td>\n",
       "      <td>NaN</td>\n",
       "      <td>NaN</td>\n",
       "      <td>NaN</td>\n",
       "      <td>NaN</td>\n",
       "      <td>NaN</td>\n",
       "      <td>NaN</td>\n",
       "      <td>NaN</td>\n",
       "    </tr>\n",
       "    <tr>\n",
       "      <th>4</th>\n",
       "      <td>NaN</td>\n",
       "      <td>NaN</td>\n",
       "      <td>Female</td>\n",
       "      <td>NaN</td>\n",
       "      <td>NaN</td>\n",
       "      <td>NaN</td>\n",
       "      <td>NaN</td>\n",
       "      <td>NaN</td>\n",
       "      <td>NaN</td>\n",
       "      <td>NaN</td>\n",
       "      <td>NaN</td>\n",
       "      <td>NaN</td>\n",
       "      <td>NaN</td>\n",
       "      <td>NaN</td>\n",
       "      <td>NaN</td>\n",
       "      <td>NaN</td>\n",
       "      <td>NaN</td>\n",
       "      <td>NaN</td>\n",
       "    </tr>\n",
       "    <tr>\n",
       "      <th>...</th>\n",
       "      <td>...</td>\n",
       "      <td>...</td>\n",
       "      <td>...</td>\n",
       "      <td>...</td>\n",
       "      <td>...</td>\n",
       "      <td>...</td>\n",
       "      <td>...</td>\n",
       "      <td>...</td>\n",
       "      <td>...</td>\n",
       "      <td>...</td>\n",
       "      <td>...</td>\n",
       "      <td>...</td>\n",
       "      <td>...</td>\n",
       "      <td>...</td>\n",
       "      <td>...</td>\n",
       "      <td>...</td>\n",
       "      <td>...</td>\n",
       "      <td>...</td>\n",
       "    </tr>\n",
       "    <tr>\n",
       "      <th>76</th>\n",
       "      <td>NaN</td>\n",
       "      <td>NaN</td>\n",
       "      <td>Female</td>\n",
       "      <td>NaN</td>\n",
       "      <td>NaN</td>\n",
       "      <td>NaN</td>\n",
       "      <td>NaN</td>\n",
       "      <td>NaN</td>\n",
       "      <td>NaN</td>\n",
       "      <td>NaN</td>\n",
       "      <td>NaN</td>\n",
       "      <td>NaN</td>\n",
       "      <td>NaN</td>\n",
       "      <td>NaN</td>\n",
       "      <td>NaN</td>\n",
       "      <td>NaN</td>\n",
       "      <td>NaN</td>\n",
       "      <td>NaN</td>\n",
       "    </tr>\n",
       "    <tr>\n",
       "      <th>77</th>\n",
       "      <td>NaN</td>\n",
       "      <td>NaN</td>\n",
       "      <td>Female</td>\n",
       "      <td>NaN</td>\n",
       "      <td>NaN</td>\n",
       "      <td>NaN</td>\n",
       "      <td>NaN</td>\n",
       "      <td>NaN</td>\n",
       "      <td>NaN</td>\n",
       "      <td>NaN</td>\n",
       "      <td>NaN</td>\n",
       "      <td>NaN</td>\n",
       "      <td>NaN</td>\n",
       "      <td>NaN</td>\n",
       "      <td>NaN</td>\n",
       "      <td>NaN</td>\n",
       "      <td>NaN</td>\n",
       "      <td>NaN</td>\n",
       "    </tr>\n",
       "    <tr>\n",
       "      <th>78</th>\n",
       "      <td>NaN</td>\n",
       "      <td>NaN</td>\n",
       "      <td>Female</td>\n",
       "      <td>NaN</td>\n",
       "      <td>NaN</td>\n",
       "      <td>NaN</td>\n",
       "      <td>NaN</td>\n",
       "      <td>NaN</td>\n",
       "      <td>NaN</td>\n",
       "      <td>NaN</td>\n",
       "      <td>NaN</td>\n",
       "      <td>NaN</td>\n",
       "      <td>NaN</td>\n",
       "      <td>NaN</td>\n",
       "      <td>NaN</td>\n",
       "      <td>NaN</td>\n",
       "      <td>NaN</td>\n",
       "      <td>NaN</td>\n",
       "    </tr>\n",
       "    <tr>\n",
       "      <th>79</th>\n",
       "      <td>NaN</td>\n",
       "      <td>NaN</td>\n",
       "      <td>Female</td>\n",
       "      <td>NaN</td>\n",
       "      <td>NaN</td>\n",
       "      <td>NaN</td>\n",
       "      <td>NaN</td>\n",
       "      <td>NaN</td>\n",
       "      <td>NaN</td>\n",
       "      <td>NaN</td>\n",
       "      <td>NaN</td>\n",
       "      <td>NaN</td>\n",
       "      <td>NaN</td>\n",
       "      <td>NaN</td>\n",
       "      <td>NaN</td>\n",
       "      <td>NaN</td>\n",
       "      <td>NaN</td>\n",
       "      <td>NaN</td>\n",
       "    </tr>\n",
       "    <tr>\n",
       "      <th>80</th>\n",
       "      <td>NaN</td>\n",
       "      <td>NaN</td>\n",
       "      <td>NaN</td>\n",
       "      <td>NaN</td>\n",
       "      <td>NaN</td>\n",
       "      <td>NaN</td>\n",
       "      <td>NaN</td>\n",
       "      <td>NaN</td>\n",
       "      <td>NaN</td>\n",
       "      <td>NaN</td>\n",
       "      <td>NaN</td>\n",
       "      <td>NaN</td>\n",
       "      <td>NaN</td>\n",
       "      <td>NaN</td>\n",
       "      <td>NaN</td>\n",
       "      <td>NaN</td>\n",
       "      <td>NaN</td>\n",
       "      <td>NaN</td>\n",
       "    </tr>\n",
       "  </tbody>\n",
       "</table>\n",
       "<p>81 rows × 18 columns</p>\n",
       "</div>"
      ],
      "text/plain": [
       "   Timestamp Username  Gender Name Education  \\\n",
       "0        NaN      NaN  Female  NaN       NaN   \n",
       "1        NaN      NaN  Female  NaN       NaN   \n",
       "2        NaN      NaN  Female  NaN       NaN   \n",
       "3        NaN      NaN     NaN  NaN       NaN   \n",
       "4        NaN      NaN  Female  NaN       NaN   \n",
       "..       ...      ...     ...  ...       ...   \n",
       "76       NaN      NaN  Female  NaN       NaN   \n",
       "77       NaN      NaN  Female  NaN       NaN   \n",
       "78       NaN      NaN  Female  NaN       NaN   \n",
       "79       NaN      NaN  Female  NaN       NaN   \n",
       "80       NaN      NaN     NaN  NaN       NaN   \n",
       "\n",
       "   Did you learn anything new during lock-down?  \\\n",
       "0                                           NaN   \n",
       "1                                           NaN   \n",
       "2                                           NaN   \n",
       "3                                           NaN   \n",
       "4                                           NaN   \n",
       "..                                          ...   \n",
       "76                                          NaN   \n",
       "77                                          NaN   \n",
       "78                                          NaN   \n",
       "79                                          NaN   \n",
       "80                                          NaN   \n",
       "\n",
       "    Your sleeping hours per day before lock-down?  \\\n",
       "0                                             NaN   \n",
       "1                                             NaN   \n",
       "2                                             NaN   \n",
       "3                                             NaN   \n",
       "4                                             NaN   \n",
       "..                                            ...   \n",
       "76                                            NaN   \n",
       "77                                            NaN   \n",
       "78                                            NaN   \n",
       "79                                            NaN   \n",
       "80                                            NaN   \n",
       "\n",
       "    Your sleeping hours per day during lockdown?  \\\n",
       "0                                            NaN   \n",
       "1                                            NaN   \n",
       "2                                            NaN   \n",
       "3                                            NaN   \n",
       "4                                            NaN   \n",
       "..                                           ...   \n",
       "76                                           NaN   \n",
       "77                                           NaN   \n",
       "78                                           NaN   \n",
       "79                                           NaN   \n",
       "80                                           NaN   \n",
       "\n",
       "    Hours you spend on mobile or laptops  before lock-down (per-day)?  \\\n",
       "0                                                 NaN                   \n",
       "1                                                 NaN                   \n",
       "2                                                 NaN                   \n",
       "3                                                 NaN                   \n",
       "4                                                 NaN                   \n",
       "..                                                ...                   \n",
       "76                                                NaN                   \n",
       "77                                                NaN                   \n",
       "78                                                NaN                   \n",
       "79                                                NaN                   \n",
       "80                                                NaN                   \n",
       "\n",
       "    Hours you spend on mobile or laptops  during lock-down (per-day)?  \\\n",
       "0                                                 NaN                   \n",
       "1                                                 NaN                   \n",
       "2                                                 NaN                   \n",
       "3                                                 NaN                   \n",
       "4                                                 NaN                   \n",
       "..                                                ...                   \n",
       "76                                                NaN                   \n",
       "77                                                NaN                   \n",
       "78                                                NaN                   \n",
       "79                                                NaN                   \n",
       "80                                                NaN                   \n",
       "\n",
       "   Have you notice any behavior change in you during lock-down?  \\\n",
       "0                                                 NaN             \n",
       "1                                                 NaN             \n",
       "2                                                 NaN             \n",
       "3                                                 NaN             \n",
       "4                                                 NaN             \n",
       "..                                                ...             \n",
       "76                                                NaN             \n",
       "77                                                NaN             \n",
       "78                                                NaN             \n",
       "79                                                NaN             \n",
       "80                                                NaN             \n",
       "\n",
       "   What you'll prefer to calm your mind?  \\\n",
       "0                                    NaN   \n",
       "1                                    NaN   \n",
       "2                                    NaN   \n",
       "3                                    NaN   \n",
       "4                                    NaN   \n",
       "..                                   ...   \n",
       "76                                   NaN   \n",
       "77                                   NaN   \n",
       "78                                   NaN   \n",
       "79                                   NaN   \n",
       "80                                   NaN   \n",
       "\n",
       "   Have you ever feel depressed before lock-down?  \\\n",
       "0                                             NaN   \n",
       "1                                             NaN   \n",
       "2                                             NaN   \n",
       "3                                             NaN   \n",
       "4                                             NaN   \n",
       "..                                            ...   \n",
       "76                                            NaN   \n",
       "77                                            NaN   \n",
       "78                                            NaN   \n",
       "79                                            NaN   \n",
       "80                                            NaN   \n",
       "\n",
       "   Have you  feel depressed during lock-down?  \\\n",
       "0                                         NaN   \n",
       "1                                         NaN   \n",
       "2                                         NaN   \n",
       "3                                         NaN   \n",
       "4                                         NaN   \n",
       "..                                        ...   \n",
       "76                                        NaN   \n",
       "77                                        NaN   \n",
       "78                                        NaN   \n",
       "79                                        NaN   \n",
       "80                                        NaN   \n",
       "\n",
       "   Did you talk to anyone about your depression? You are depressed because?  \\\n",
       "0                                            NaN                        NaN   \n",
       "1                                            NaN                        NaN   \n",
       "2                                            NaN                        NaN   \n",
       "3                                            NaN                        NaN   \n",
       "4                                            NaN                        NaN   \n",
       "..                                           ...                        ...   \n",
       "76                                           NaN                        NaN   \n",
       "77                                           NaN                        NaN   \n",
       "78                                           NaN                        NaN   \n",
       "79                                           NaN                        NaN   \n",
       "80                                           NaN                        NaN   \n",
       "\n",
       "   Do you need any help regarding your depression?  \\\n",
       "0                                              NaN   \n",
       "1                                              NaN   \n",
       "2                                              NaN   \n",
       "3                                              NaN   \n",
       "4                                              NaN   \n",
       "..                                             ...   \n",
       "76                                             NaN   \n",
       "77                                             NaN   \n",
       "78                                             NaN   \n",
       "79                                             NaN   \n",
       "80                                             NaN   \n",
       "\n",
       "   Have you watched Harry-Potter?  \n",
       "0                             NaN  \n",
       "1                             NaN  \n",
       "2                             NaN  \n",
       "3                             NaN  \n",
       "4                             NaN  \n",
       "..                            ...  \n",
       "76                            NaN  \n",
       "77                            NaN  \n",
       "78                            NaN  \n",
       "79                            NaN  \n",
       "80                            NaN  \n",
       "\n",
       "[81 rows x 18 columns]"
      ]
     },
     "execution_count": 52,
     "metadata": {},
     "output_type": "execute_result"
    }
   ],
   "source": [
    "data[data[['Gender','Name']]=='Female']"
   ]
  },
  {
   "cell_type": "code",
   "execution_count": null,
   "metadata": {},
   "outputs": [],
   "source": []
  }
 ],
 "metadata": {
  "kernelspec": {
   "display_name": "Python 3",
   "language": "python",
   "name": "python3"
  },
  "language_info": {
   "codemirror_mode": {
    "name": "ipython",
    "version": 3
   },
   "file_extension": ".py",
   "mimetype": "text/x-python",
   "name": "python",
   "nbconvert_exporter": "python",
   "pygments_lexer": "ipython3",
   "version": "3.7.6"
  }
 },
 "nbformat": 4,
 "nbformat_minor": 4
}
